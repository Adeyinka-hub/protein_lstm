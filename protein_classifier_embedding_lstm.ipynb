{
 "cells": [
  {
   "cell_type": "code",
   "execution_count": 1,
   "metadata": {
    "collapsed": true
   },
   "outputs": [],
   "source": [
    "import pandas as pd\n",
    "import numpy as np\n",
    "import matplotlib.pyplot as plt"
   ]
  },
  {
   "cell_type": "code",
   "execution_count": 2,
   "metadata": {},
   "outputs": [
    {
     "name": "stdout",
     "output_type": "stream",
     "text": [
      "..Read data files..\n"
     ]
    }
   ],
   "source": [
    "df_pdb_data_no_seq = pd.read_csv('resources/pdb_data_no_dups.csv')\n",
    "df_pdb_seq = pd.read_csv('resources/pdb_data_seq.csv')\n",
    "print(\"..Read data files..\")"
   ]
  },
  {
   "cell_type": "code",
   "execution_count": 3,
   "metadata": {
    "collapsed": true
   },
   "outputs": [],
   "source": [
    "# filtering out only protein structures\n",
    "df_protein_seq = df_pdb_seq[(df_pdb_seq['macromoleculeType'] == 'Protein')]"
   ]
  },
  {
   "cell_type": "code",
   "execution_count": 4,
   "metadata": {},
   "outputs": [
    {
     "data": {
      "text/html": [
       "<div>\n",
       "<style scoped>\n",
       "    .dataframe tbody tr th:only-of-type {\n",
       "        vertical-align: middle;\n",
       "    }\n",
       "\n",
       "    .dataframe tbody tr th {\n",
       "        vertical-align: top;\n",
       "    }\n",
       "\n",
       "    .dataframe thead th {\n",
       "        text-align: right;\n",
       "    }\n",
       "</style>\n",
       "<table border=\"1\" class=\"dataframe\">\n",
       "  <thead>\n",
       "    <tr style=\"text-align: right;\">\n",
       "      <th></th>\n",
       "      <th>sequence</th>\n",
       "      <th>classification</th>\n",
       "    </tr>\n",
       "  </thead>\n",
       "  <tbody>\n",
       "    <tr>\n",
       "      <th>0</th>\n",
       "      <td>MVLSEGEWQLVLHVWAKVEADVAGHGQDILIRLFKSHPETLEKFDR...</td>\n",
       "      <td>OXYGEN TRANSPORT</td>\n",
       "    </tr>\n",
       "    <tr>\n",
       "      <th>1</th>\n",
       "      <td>MNIFEMLRIDEGLRLKIYKDTEGYYTIGIGHLLTKSPSLNAAAKSE...</td>\n",
       "      <td>HYDROLASE(O-GLYCOSYL)</td>\n",
       "    </tr>\n",
       "    <tr>\n",
       "      <th>2</th>\n",
       "      <td>MVLSEGEWQLVLHVWAKVEADVAGHGQDILIRLFKSHPETLEKFDR...</td>\n",
       "      <td>OXYGEN TRANSPORT</td>\n",
       "    </tr>\n",
       "    <tr>\n",
       "      <th>3</th>\n",
       "      <td>MNIFEMLRIDEGLRLKIYKDTEGYYTIGIGHLLTKSPSLNSLDAAK...</td>\n",
       "      <td>HYDROLASE(O-GLYCOSYL)</td>\n",
       "    </tr>\n",
       "    <tr>\n",
       "      <th>4</th>\n",
       "      <td>MVLSEGEWQLVLHVWAKVEADVAGHGQDILIRLFKSHPETLEKFDR...</td>\n",
       "      <td>OXYGEN TRANSPORT</td>\n",
       "    </tr>\n",
       "  </tbody>\n",
       "</table>\n",
       "</div>"
      ],
      "text/plain": [
       "                                            sequence         classification\n",
       "0  MVLSEGEWQLVLHVWAKVEADVAGHGQDILIRLFKSHPETLEKFDR...       OXYGEN TRANSPORT\n",
       "1  MNIFEMLRIDEGLRLKIYKDTEGYYTIGIGHLLTKSPSLNAAAKSE...  HYDROLASE(O-GLYCOSYL)\n",
       "2  MVLSEGEWQLVLHVWAKVEADVAGHGQDILIRLFKSHPETLEKFDR...       OXYGEN TRANSPORT\n",
       "3  MNIFEMLRIDEGLRLKIYKDTEGYYTIGIGHLLTKSPSLNSLDAAK...  HYDROLASE(O-GLYCOSYL)\n",
       "4  MVLSEGEWQLVLHVWAKVEADVAGHGQDILIRLFKSHPETLEKFDR...       OXYGEN TRANSPORT"
      ]
     },
     "execution_count": 4,
     "metadata": {},
     "output_type": "execute_result"
    }
   ],
   "source": [
    "# joining two data sets for protein Seq - classification\n",
    "\n",
    "df_protein_final = df_protein_seq.merge(df_pdb_data_no_seq)\n",
    "\n",
    "df_protein_seq_final = df_protein_final[['sequence', 'classification']]\n",
    "\n",
    "df_protein_seq_final.head()"
   ]
  },
  {
   "cell_type": "code",
   "execution_count": 5,
   "metadata": {},
   "outputs": [
    {
     "name": "stdout",
     "output_type": "stream",
     "text": [
      "filtered data with NA values\n"
     ]
    }
   ],
   "source": [
    "df_protein_seq_final = df_protein_seq_final.dropna()\n",
    "print(\"filtered data with NA values\")"
   ]
  },
  {
   "cell_type": "code",
   "execution_count": 6,
   "metadata": {},
   "outputs": [
    {
     "name": "stdout",
     "output_type": "stream",
     "text": [
      "Unique Amino Acid Set...\n"
     ]
    }
   ],
   "source": [
    "from utilities.EmbeddingEncoder import EmbeddingEncoder\n",
    "\n",
    "embed_enoder = EmbeddingEncoder()\n",
    "\n",
    "embed_enoder.find_unique_amino_acids(df_protein_seq_final['sequence'])\n",
    "print(\"Unique Amino Acid Set...\")"
   ]
  },
  {
   "cell_type": "code",
   "execution_count": 7,
   "metadata": {},
   "outputs": [
    {
     "name": "stdout",
     "output_type": "stream",
     "text": [
      "{'I': 0, 'P': 1, 'Z': 2, 'W': 3, 'V': 4, 'T': 5, 'X': 6, 'Y': 7, 'M': 8, 'D': 9, 'Q': 10, 'F': 11, 'K': 12, 'H': 13, 'O': 14, 'L': 15, 'U': 16, 'E': 17, 'B': 18, 'R': 19, 'A': 20, 'G': 21, 'S': 22, 'C': 23, 'N': 24}\n"
     ]
    }
   ],
   "source": [
    "embed_enoder.create_embed_encoder()\n",
    "print(embed_enoder.embed_encoder)"
   ]
  },
  {
   "cell_type": "code",
   "execution_count": 8,
   "metadata": {
    "collapsed": true
   },
   "outputs": [],
   "source": [
    "from utilities.DataPreProcessor import DataPreProcessor\n",
    "\n",
    "count_dict = df_protein_seq_final['classification'].value_counts().to_dict()\n",
    "data_pre_processor = DataPreProcessor(count_dict,embed_enoder,None)"
   ]
  },
  {
   "cell_type": "code",
   "execution_count": 9,
   "metadata": {},
   "outputs": [
    {
     "name": "stdout",
     "output_type": "stream",
     "text": [
      "final Shape of the DataSet (291355, 2)\n"
     ]
    }
   ],
   "source": [
    "## delete least preferred sequences\n",
    "data_pre_processor.del_least_preferred()\n",
    "\n",
    "df_protein_seq_final_for_modeling = \\\n",
    "    df_protein_seq_final[df_protein_seq_final['classification']\n",
    "        .isin(data_pre_processor.count_dict_keys_as_list())]\n",
    "\n",
    "df_protein_seq_final_for_modeling = \\\n",
    "    df_protein_seq_final_for_modeling.reset_index(drop=True)\n",
    "print(\"final Shape of the DataSet {}\".format(df_protein_seq_final_for_modeling.shape))"
   ]
  },
  {
   "cell_type": "code",
   "execution_count": 10,
   "metadata": {
    "collapsed": true
   },
   "outputs": [],
   "source": [
    "## only considering sequences of length between 50 and 1200\n",
    "df_protein_seq_final_for_modeling = \\\n",
    "    df_protein_seq_final_for_modeling[df_protein_seq_final_for_modeling.apply(\n",
    "        lambda x: len(x['sequence']) <=1200 and len(x['sequence']) >=50 ,axis=1\n",
    "    )]"
   ]
  },
  {
   "cell_type": "code",
   "execution_count": 11,
   "metadata": {},
   "outputs": [
    {
     "name": "stdout",
     "output_type": "stream",
     "text": [
      "final Shape of the DataSet (271914, 2)\n"
     ]
    }
   ],
   "source": [
    "print(\"final Shape of the DataSet {}\".format(df_protein_seq_final_for_modeling.shape))"
   ]
  },
  {
   "cell_type": "code",
   "execution_count": 12,
   "metadata": {
    "collapsed": true
   },
   "outputs": [],
   "source": [
    "X_sequences = df_protein_seq_final_for_modeling['sequence']\n",
    "y_label = df_protein_seq_final_for_modeling['classification']"
   ]
  },
  {
   "cell_type": "code",
   "execution_count": 13,
   "metadata": {},
   "outputs": [
    {
     "name": "stdout",
     "output_type": "stream",
     "text": [
      "Getting Processed Seqs\n",
      "(1000, 1200)\n",
      "getting labels\n",
      "(1000, 35)\n"
     ]
    }
   ],
   "source": [
    "## test process sequences\n",
    "\n",
    "data_pre_processor.process_seqs_to_embeddings(X_sequences[:1000],y_label[:1000],1200)\n",
    "print(\"Getting Processed Seqs\")\n",
    "print(data_pre_processor.get_x().shape)\n",
    "print(\"getting labels\")\n",
    "print(data_pre_processor.get_y().shape)\n",
    "# print(\"getting protein categories\")\n",
    "# print(data_pre_processor.get_protein_categoeies())"
   ]
  },
  {
   "cell_type": "markdown",
   "metadata": {},
   "source": [
    "## LSTM Modeling"
   ]
  },
  {
   "cell_type": "code",
   "execution_count": 14,
   "metadata": {},
   "outputs": [
    {
     "name": "stderr",
     "output_type": "stream",
     "text": [
      "Using TensorFlow backend.\n"
     ]
    }
   ],
   "source": [
    "from keras.layers import LSTM\n",
    "from keras.layers import Dense\n",
    "from keras.models import Sequential\n",
    "from keras.layers import Flatten\n",
    "from keras.layers import Embedding\n",
    "from keras.layers import Dropout\n",
    "from keras.layers import SpatialDropout1D\n",
    "from keras import regularizers"
   ]
  },
  {
   "cell_type": "code",
   "execution_count": 15,
   "metadata": {},
   "outputs": [
    {
     "name": "stdout",
     "output_type": "stream",
     "text": [
      "_________________________________________________________________\n",
      "Layer (type)                 Output Shape              Param #   \n",
      "=================================================================\n",
      "embedding_1 (Embedding)      (None, 1200, 300)         1500000   \n",
      "_________________________________________________________________\n",
      "lstm_1 (LSTM)                (None, 1200, 100)         160400    \n",
      "_________________________________________________________________\n",
      "lstm_2 (LSTM)                (None, 1200, 100)         80400     \n",
      "_________________________________________________________________\n",
      "lstm_3 (LSTM)                (None, 100)               80400     \n",
      "_________________________________________________________________\n",
      "dense_1 (Dense)              (None, 35)                3535      \n",
      "=================================================================\n",
      "Total params: 1,824,735\n",
      "Trainable params: 1,824,735\n",
      "Non-trainable params: 0\n",
      "_________________________________________________________________\n",
      "None\n"
     ]
    }
   ],
   "source": [
    "embed_vol = 5000\n",
    "embed_dim = 300\n",
    "num_features = 25\n",
    "max_seq_length = 1200\n",
    "## AAs are supposed to be integer encoded for embedding layer \n",
    "\n",
    "model = Sequential()\n",
    "model.add(Embedding(embed_vol,embed_dim,input_length=data_pre_processor.get_x().shape[1]))\n",
    "model.add(LSTM(100,dropout=0.2, recurrent_dropout=0.2,return_sequences=True,recurrent_regularizer=regularizers.l2(0.02)))\n",
    "model.add(LSTM(100,return_sequences=True,recurrent_regularizer=regularizers.l2(0.01)))\n",
    "model.add(LSTM(100))\n",
    "model.add(Dense(len(data_pre_processor.get_protein_categoeies()),activation='softmax'))\n",
    "model.compile(loss='categorical_crossentropy', optimizer='adam', metrics=['accuracy'])\n",
    "print(model.summary())"
   ]
  },
  {
   "cell_type": "markdown",
   "metadata": {},
   "source": [
    "## Modeling the first 1000 Sequences"
   ]
  },
  {
   "cell_type": "code",
   "execution_count": 16,
   "metadata": {
    "collapsed": true
   },
   "outputs": [],
   "source": [
    "from sklearn.model_selection import train_test_split\n",
    "X_train, X_test, y_train, y_test = train_test_split(data_pre_processor.get_x(), data_pre_processor.get_y(), test_size=0.20, random_state=42)"
   ]
  },
  {
   "cell_type": "code",
   "execution_count": 17,
   "metadata": {},
   "outputs": [
    {
     "name": "stdout",
     "output_type": "stream",
     "text": [
      "train data shape is (800, 1200) and (800, 35)\n",
      "test data shape is (200, 1200) and (200, 35)\n"
     ]
    }
   ],
   "source": [
    "print(\"train data shape is {} and {}\".format(X_train.shape,y_train.shape))\n",
    "print(\"test data shape is {} and {}\".format(X_test.shape,y_test.shape))"
   ]
  },
  {
   "cell_type": "code",
   "execution_count": 18,
   "metadata": {
    "collapsed": true
   },
   "outputs": [],
   "source": [
    "# from keras.callbacks import TensorBoard\n",
    "\n",
    "# tensor_board = TensorBoard(log_dir='logs/Graph', histogram_freq=0, write_graph=True, write_images=True)"
   ]
  },
  {
   "cell_type": "code",
   "execution_count": 19,
   "metadata": {},
   "outputs": [
    {
     "name": "stdout",
     "output_type": "stream",
     "text": [
      "Train on 640 samples, validate on 160 samples\n",
      "Epoch 1/5\n",
      "640/640 [==============================] - 289s 452ms/step - loss: 5.2687 - acc: 0.2203 - val_loss: 4.2540 - val_acc: 0.2250\n",
      "Epoch 2/5\n",
      "640/640 [==============================] - 329s 514ms/step - loss: 3.8241 - acc: 0.2219 - val_loss: 3.4503 - val_acc: 0.1812\n",
      "Epoch 3/5\n",
      "640/640 [==============================] - 345s 539ms/step - loss: 3.2226 - acc: 0.2266 - val_loss: 3.0419 - val_acc: 0.1812\n",
      "Epoch 4/5\n",
      "640/640 [==============================] - 364s 569ms/step - loss: 2.9110 - acc: 0.2156 - val_loss: 2.8306 - val_acc: 0.2250\n",
      "Epoch 5/5\n",
      "640/640 [==============================] - 372s 581ms/step - loss: 2.7556 - acc: 0.2266 - val_loss: 2.7215 - val_acc: 0.2250\n"
     ]
    },
    {
     "data": {
      "image/png": "[encoded data removed]",
      "text/plain": [
       "<matplotlib.figure.Figure at 0x1f283292198>"
      ]
     },
     "metadata": {},
     "output_type": "display_data"
    }
   ],
   "source": [
    "history = model.fit(X_train,y_train,epochs=5,verbose=1,batch_size=32,validation_split=0.2)\n",
    "\n",
    "plt.plot(history.history['loss'])\n",
    "plt.plot(history.history['val_loss'])\n",
    "plt.title('model train vs validation loss')\n",
    "plt.ylabel('loss')\n",
    "plt.xlabel('epoch')\n",
    "plt.legend(['train', 'validation'], loc='upper right')\n",
    "plt.show()"
   ]
  },
  {
   "cell_type": "code",
   "execution_count": 20,
   "metadata": {},
   "outputs": [
    {
     "name": "stdout",
     "output_type": "stream",
     "text": [
      "Score: 2.75\n",
      "Validation Accuracy: 0.20\n"
     ]
    }
   ],
   "source": [
    "score,acc = model.evaluate(X_test, y_test, verbose = 2, batch_size = 16)\n",
    "print(\"Score: %.2f\" % (score))\n",
    "print(\"Validation Accuracy: %.2f\" % (acc))"
   ]
  },
  {
   "cell_type": "code",
   "execution_count": null,
   "metadata": {
    "collapsed": true
   },
   "outputs": [],
   "source": []
  }
 ],
 "metadata": {
  "kernelspec": {
   "display_name": "Python 3",
   "language": "python",
   "name": "python3"
  },
  "language_info": {
   "codemirror_mode": {
    "name": "ipython",
    "version": 3
   },
   "file_extension": ".py",
   "mimetype": "text/x-python",
   "name": "python",
   "nbconvert_exporter": "python",
   "pygments_lexer": "ipython3",
   "version": "3.6.1"
  }
 },
 "nbformat": 4,
 "nbformat_minor": 2
}
