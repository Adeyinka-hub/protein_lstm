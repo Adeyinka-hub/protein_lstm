{
 "cells": [
  {
   "cell_type": "code",
   "execution_count": 1,
   "metadata": {
    "collapsed": true
   },
   "outputs": [],
   "source": [
    "import pandas as pd\n",
    "import numpy as np\n",
    "import matplotlib.pyplot as plt\n",
    "from utilities.OneHotEncoder import OneHotEncoder\n",
    "from utilities.DataPreProcessor import DataPreProcessor"
   ]
  },
  {
   "cell_type": "code",
   "execution_count": 2,
   "metadata": {},
   "outputs": [
    {
     "name": "stdout",
     "output_type": "stream",
     "text": [
      "..Read data files..\n"
     ]
    }
   ],
   "source": [
    "df_pdb_data_no_seq = pd.read_csv('resources/pdb_data_no_dups.csv')\n",
    "df_pdb_seq = pd.read_csv('resources/pdb_data_seq.csv')\n",
    "print(\"..Read data files..\")"
   ]
  },
  {
   "cell_type": "code",
   "execution_count": 3,
   "metadata": {
    "collapsed": true
   },
   "outputs": [],
   "source": [
    "# filtering out only protein structures\n",
    "df_protein_seq = df_pdb_seq[(df_pdb_seq['macromoleculeType'] == 'Protein')]"
   ]
  },
  {
   "cell_type": "code",
   "execution_count": 4,
   "metadata": {},
   "outputs": [
    {
     "data": {
      "text/html": [
       "<div>\n",
       "<style>\n",
       "    .dataframe thead tr:only-child th {\n",
       "        text-align: right;\n",
       "    }\n",
       "\n",
       "    .dataframe thead th {\n",
       "        text-align: left;\n",
       "    }\n",
       "\n",
       "    .dataframe tbody tr th {\n",
       "        vertical-align: top;\n",
       "    }\n",
       "</style>\n",
       "<table border=\"1\" class=\"dataframe\">\n",
       "  <thead>\n",
       "    <tr style=\"text-align: right;\">\n",
       "      <th></th>\n",
       "      <th>sequence</th>\n",
       "      <th>classification</th>\n",
       "    </tr>\n",
       "  </thead>\n",
       "  <tbody>\n",
       "    <tr>\n",
       "      <th>0</th>\n",
       "      <td>MVLSEGEWQLVLHVWAKVEADVAGHGQDILIRLFKSHPETLEKFDR...</td>\n",
       "      <td>OXYGEN TRANSPORT</td>\n",
       "    </tr>\n",
       "    <tr>\n",
       "      <th>1</th>\n",
       "      <td>MNIFEMLRIDEGLRLKIYKDTEGYYTIGIGHLLTKSPSLNAAAKSE...</td>\n",
       "      <td>HYDROLASE(O-GLYCOSYL)</td>\n",
       "    </tr>\n",
       "    <tr>\n",
       "      <th>2</th>\n",
       "      <td>MVLSEGEWQLVLHVWAKVEADVAGHGQDILIRLFKSHPETLEKFDR...</td>\n",
       "      <td>OXYGEN TRANSPORT</td>\n",
       "    </tr>\n",
       "    <tr>\n",
       "      <th>3</th>\n",
       "      <td>MNIFEMLRIDEGLRLKIYKDTEGYYTIGIGHLLTKSPSLNSLDAAK...</td>\n",
       "      <td>HYDROLASE(O-GLYCOSYL)</td>\n",
       "    </tr>\n",
       "    <tr>\n",
       "      <th>4</th>\n",
       "      <td>MVLSEGEWQLVLHVWAKVEADVAGHGQDILIRLFKSHPETLEKFDR...</td>\n",
       "      <td>OXYGEN TRANSPORT</td>\n",
       "    </tr>\n",
       "  </tbody>\n",
       "</table>\n",
       "</div>"
      ],
      "text/plain": [
       "                                            sequence         classification\n",
       "0  MVLSEGEWQLVLHVWAKVEADVAGHGQDILIRLFKSHPETLEKFDR...       OXYGEN TRANSPORT\n",
       "1  MNIFEMLRIDEGLRLKIYKDTEGYYTIGIGHLLTKSPSLNAAAKSE...  HYDROLASE(O-GLYCOSYL)\n",
       "2  MVLSEGEWQLVLHVWAKVEADVAGHGQDILIRLFKSHPETLEKFDR...       OXYGEN TRANSPORT\n",
       "3  MNIFEMLRIDEGLRLKIYKDTEGYYTIGIGHLLTKSPSLNSLDAAK...  HYDROLASE(O-GLYCOSYL)\n",
       "4  MVLSEGEWQLVLHVWAKVEADVAGHGQDILIRLFKSHPETLEKFDR...       OXYGEN TRANSPORT"
      ]
     },
     "execution_count": 4,
     "metadata": {},
     "output_type": "execute_result"
    }
   ],
   "source": [
    "# joining two data sets for protein Seq - classification\n",
    "\n",
    "df_protein_final = df_protein_seq.merge(df_pdb_data_no_seq)\n",
    "\n",
    "df_protein_seq_final = df_protein_final[['sequence', 'classification']]\n",
    "\n",
    "df_protein_seq_final.head()"
   ]
  },
  {
   "cell_type": "code",
   "execution_count": 5,
   "metadata": {},
   "outputs": [
    {
     "name": "stdout",
     "output_type": "stream",
     "text": [
      "filtered data with NA values\n"
     ]
    }
   ],
   "source": [
    "# drop na values in the data frame\n",
    "\n",
    "df_protein_seq_final = df_protein_seq_final.dropna()\n",
    "print(\"filtered data with NA values\")"
   ]
  },
  {
   "cell_type": "code",
   "execution_count": 6,
   "metadata": {},
   "outputs": [
    {
     "name": "stdout",
     "output_type": "stream",
     "text": [
      "Unique Amino Acid Set...\n"
     ]
    }
   ],
   "source": [
    "##One_hot encoding\n",
    "\n",
    "one_hot_encoder = OneHotEncoder()\n",
    "\n",
    "one_hot_encoder.find_unique_amino_acids(df_protein_seq_final['sequence'])\n",
    "print(\"Unique Amino Acid Set...\")"
   ]
  },
  {
   "cell_type": "code",
   "execution_count": 7,
   "metadata": {
    "collapsed": true
   },
   "outputs": [],
   "source": [
    "## creates an encoded dictionaryfor each Amino Acid\n",
    "one_hot_encoder.create_one_hot_dict()\n",
    "\n",
    "data_pre_processor = DataPreProcessor(one_hot_encoder,\n",
    "                                      df_protein_seq_final['classification']\n",
    "                                      .value_counts().to_dict())"
   ]
  },
  {
   "cell_type": "code",
   "execution_count": 8,
   "metadata": {},
   "outputs": [
    {
     "name": "stdout",
     "output_type": "stream",
     "text": [
      "final Shape of the DataSet (291355, 2)\n"
     ]
    }
   ],
   "source": [
    "## delete least preferred sequences\n",
    "data_pre_processor.del_least_preferred()\n",
    "\n",
    "df_protein_seq_final_for_modeling = \\\n",
    "    df_protein_seq_final[df_protein_seq_final['classification']\n",
    "        .isin(data_pre_processor.count_dict_keys_as_list())]\n",
    "\n",
    "df_protein_seq_final_for_modeling = \\\n",
    "    df_protein_seq_final_for_modeling.reset_index(drop=True)\n",
    "print(\"final Shape of the DataSet {}\".format(df_protein_seq_final_for_modeling.shape))"
   ]
  },
  {
   "cell_type": "code",
   "execution_count": 9,
   "metadata": {
    "collapsed": true
   },
   "outputs": [],
   "source": [
    "X_sequences = df_protein_seq_final_for_modeling['sequence']\n",
    "y_label = df_protein_seq_final_for_modeling['classification']"
   ]
  },
  {
   "cell_type": "code",
   "execution_count": 10,
   "metadata": {},
   "outputs": [
    {
     "name": "stdout",
     "output_type": "stream",
     "text": [
      "getting protein categories\n",
      "['HYDROLASE', 'LIGASE', 'OXYGEN TRANSPORT', 'TRANSFERASE/TRANSFERASE INHIBITOR']\n"
     ]
    }
   ],
   "source": [
    "## test process sequences\n",
    "\n",
    "data_pre_processor.process_all_seqs(X_sequences[:20], y_label[:20])\n",
    "# print(\"Getting Processed Seqs\")\n",
    "# print(data_pre_processor.get_x())\n",
    "# print(\"getting labels\")\n",
    "# print(data_pre_processor.get_y())\n",
    "print(\"getting protein categories\")\n",
    "print(data_pre_processor.get_protein_categoeies())"
   ]
  },
  {
   "cell_type": "markdown",
   "metadata": {},
   "source": [
    "### LSTM Modeling"
   ]
  },
  {
   "cell_type": "code",
   "execution_count": 11,
   "metadata": {
    "collapsed": true
   },
   "outputs": [],
   "source": [
    "# from model.LSTMModel import LSTMModel\n",
    "# \n",
    "# lstm_model = LSTMModel(None,100)"
   ]
  },
  {
   "cell_type": "code",
   "execution_count": 12,
   "metadata": {},
   "outputs": [],
   "source": [
    "# print(lstm_model.define_model(100,3))"
   ]
  },
  {
   "cell_type": "code",
   "execution_count": 13,
   "metadata": {},
   "outputs": [],
   "source": [
    "from sklearn.model_selection import train_test_split\n",
    "X_train, X_test, y_train, y_test = train_test_split(X_sequences, y_label, test_size=0.20, random_state=42)"
   ]
  },
  {
   "cell_type": "code",
   "execution_count": 14,
   "metadata": {},
   "outputs": [],
   "source": [
    "# for X,y in data_pre_processor.batch_generator(512):\n",
    "#     X = X.reshape((1,X.shape[0],X.shape[1]))\n",
    "#     lstm_model.get_model().fit(X,y,epochs=10)"
   ]
  },
  {
   "cell_type": "code",
   "execution_count": 43,
   "metadata": {},
   "outputs": [
    {
     "name": "stdout",
     "output_type": "stream",
     "text": [
      "(1, 154, 25)\n",
      "Compare\n",
      "[0 0 0 0 0 0 0 0 0 1 0 0 0 0 0 0 0 0 0 0 0 0 0 0 0]\n",
      "(1, 154, 25)\n",
      "(1, 154, 25)\n",
      "(1, 154)\n",
      "(1, 154)\n",
      "(1, 154, 25)\n",
      "(1, 154, 25)\n",
      "(1, 154, 25)\n",
      "Finding truth\n",
      "[0, 0, 0]\n",
      "(1, 209)\n",
      "(1, 209, 25)\n",
      "(1, 209, 25)\n",
      "(1, 209)\n",
      "(1, 330)\n",
      "(1, 330)\n",
      "(1, 330)\n",
      "(1, 330)\n",
      "(1, 330, 25)\n",
      "(1, 330, 25)\n",
      "(1, 330)\n",
      "(1, 330)\n"
     ]
    }
   ],
   "source": [
    "count=0\n",
    "for X,y in data_pre_processor.batch_generator(1):\n",
    "    if count == 8:\n",
    "        print(\"Finding truth\")\n",
    "        print(X[0][208])\n",
    "    if count == 1:\n",
    "        print(\"Compare\")\n",
    "        print(X[0][25])\n",
    "    print(X.shape)\n",
    "    count += 1"
   ]
  },
  {
   "cell_type": "code",
   "execution_count": null,
   "metadata": {
    "collapsed": true
   },
   "outputs": [],
   "source": []
  }
 ],
 "metadata": {
  "kernelspec": {
   "display_name": "Python 3",
   "language": "python",
   "name": "python3"
  },
  "language_info": {
   "codemirror_mode": {
    "name": "ipython",
    "version": 3
   },
   "file_extension": ".py",
   "mimetype": "text/x-python",
   "name": "python",
   "nbconvert_exporter": "python",
   "pygments_lexer": "ipython3",
   "version": "3.6.1"
  }
 },
 "nbformat": 4,
 "nbformat_minor": 1
}
