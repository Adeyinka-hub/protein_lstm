{
 "cells": [
  {
   "cell_type": "markdown",
   "metadata": {},
   "source": [
    "# Protein Sequence Classification using 1D Convolutions"
   ]
  },
  {
   "cell_type": "markdown",
   "metadata": {},
   "source": [
    "###### This project aims at classifying protein sequences by performing sentiment analysis using 1D Convolutions."
   ]
  },
  {
   "cell_type": "code",
   "execution_count": 1,
   "metadata": {
    "collapsed": true
   },
   "outputs": [],
   "source": [
    "import pandas as pd\n",
    "import numpy as np\n",
    "import matplotlib.pyplot as plt"
   ]
  },
  {
   "cell_type": "code",
   "execution_count": 2,
   "metadata": {},
   "outputs": [
    {
     "name": "stdout",
     "output_type": "stream",
     "text": [
      "..Read data files..\n"
     ]
    }
   ],
   "source": [
    "df_pdb_data_no_seq = pd.read_csv('resources/pdb_data_no_dups.csv')\n",
    "df_pdb_seq = pd.read_csv('resources/pdb_data_seq.csv')\n",
    "print(\"..Read data files..\")"
   ]
  },
  {
   "cell_type": "code",
   "execution_count": 3,
   "metadata": {
    "collapsed": true
   },
   "outputs": [],
   "source": [
    "# filtering out only protein structures\n",
    "df_protein_seq = df_pdb_seq[(df_pdb_seq['macromoleculeType'] == 'Protein')]"
   ]
  },
  {
   "cell_type": "code",
   "execution_count": 4,
   "metadata": {},
   "outputs": [
    {
     "data": {
      "text/html": [
       "<div>\n",
       "<style>\n",
       "    .dataframe thead tr:only-child th {\n",
       "        text-align: right;\n",
       "    }\n",
       "\n",
       "    .dataframe thead th {\n",
       "        text-align: left;\n",
       "    }\n",
       "\n",
       "    .dataframe tbody tr th {\n",
       "        vertical-align: top;\n",
       "    }\n",
       "</style>\n",
       "<table border=\"1\" class=\"dataframe\">\n",
       "  <thead>\n",
       "    <tr style=\"text-align: right;\">\n",
       "      <th></th>\n",
       "      <th>sequence</th>\n",
       "      <th>classification</th>\n",
       "    </tr>\n",
       "  </thead>\n",
       "  <tbody>\n",
       "    <tr>\n",
       "      <th>0</th>\n",
       "      <td>MVLSEGEWQLVLHVWAKVEADVAGHGQDILIRLFKSHPETLEKFDR...</td>\n",
       "      <td>OXYGEN TRANSPORT</td>\n",
       "    </tr>\n",
       "    <tr>\n",
       "      <th>1</th>\n",
       "      <td>MNIFEMLRIDEGLRLKIYKDTEGYYTIGIGHLLTKSPSLNAAAKSE...</td>\n",
       "      <td>HYDROLASE(O-GLYCOSYL)</td>\n",
       "    </tr>\n",
       "    <tr>\n",
       "      <th>2</th>\n",
       "      <td>MVLSEGEWQLVLHVWAKVEADVAGHGQDILIRLFKSHPETLEKFDR...</td>\n",
       "      <td>OXYGEN TRANSPORT</td>\n",
       "    </tr>\n",
       "    <tr>\n",
       "      <th>3</th>\n",
       "      <td>MNIFEMLRIDEGLRLKIYKDTEGYYTIGIGHLLTKSPSLNSLDAAK...</td>\n",
       "      <td>HYDROLASE(O-GLYCOSYL)</td>\n",
       "    </tr>\n",
       "    <tr>\n",
       "      <th>4</th>\n",
       "      <td>MVLSEGEWQLVLHVWAKVEADVAGHGQDILIRLFKSHPETLEKFDR...</td>\n",
       "      <td>OXYGEN TRANSPORT</td>\n",
       "    </tr>\n",
       "  </tbody>\n",
       "</table>\n",
       "</div>"
      ],
      "text/plain": [
       "                                            sequence         classification\n",
       "0  MVLSEGEWQLVLHVWAKVEADVAGHGQDILIRLFKSHPETLEKFDR...       OXYGEN TRANSPORT\n",
       "1  MNIFEMLRIDEGLRLKIYKDTEGYYTIGIGHLLTKSPSLNAAAKSE...  HYDROLASE(O-GLYCOSYL)\n",
       "2  MVLSEGEWQLVLHVWAKVEADVAGHGQDILIRLFKSHPETLEKFDR...       OXYGEN TRANSPORT\n",
       "3  MNIFEMLRIDEGLRLKIYKDTEGYYTIGIGHLLTKSPSLNSLDAAK...  HYDROLASE(O-GLYCOSYL)\n",
       "4  MVLSEGEWQLVLHVWAKVEADVAGHGQDILIRLFKSHPETLEKFDR...       OXYGEN TRANSPORT"
      ]
     },
     "execution_count": 4,
     "metadata": {},
     "output_type": "execute_result"
    }
   ],
   "source": [
    "# joining two data sets for protein Seq - classification\n",
    "\n",
    "df_protein_final = df_protein_seq.merge(df_pdb_data_no_seq)\n",
    "\n",
    "df_protein_seq_final = df_protein_final[['sequence', 'classification']]\n",
    "\n",
    "df_protein_seq_final.head()"
   ]
  },
  {
   "cell_type": "code",
   "execution_count": 5,
   "metadata": {},
   "outputs": [
    {
     "name": "stdout",
     "output_type": "stream",
     "text": [
      "filtered data with NA values\n"
     ]
    }
   ],
   "source": [
    "df_protein_seq_final = df_protein_seq_final.dropna()\n",
    "print(\"filtered data with NA values\")"
   ]
  },
  {
   "cell_type": "code",
   "execution_count": 6,
   "metadata": {},
   "outputs": [
    {
     "name": "stdout",
     "output_type": "stream",
     "text": [
      "Unique Amino Acid Set...\n"
     ]
    }
   ],
   "source": [
    "from utilities.EmbeddingEncoder import EmbeddingEncoder\n",
    "\n",
    "embed_enoder = EmbeddingEncoder()\n",
    "\n",
    "embed_enoder.find_unique_amino_acids(df_protein_seq_final['sequence'])\n",
    "print(\"Unique Amino Acid Set...\")"
   ]
  },
  {
   "cell_type": "code",
   "execution_count": 7,
   "metadata": {},
   "outputs": [
    {
     "name": "stdout",
     "output_type": "stream",
     "text": [
      "{'K': 0, 'E': 1, 'S': 2, 'B': 3, 'T': 4, 'W': 5, 'V': 6, 'D': 7, 'N': 8, 'Y': 9, 'X': 10, 'A': 11, 'C': 12, 'H': 13, 'U': 14, 'M': 15, 'G': 16, 'F': 17, 'P': 18, 'I': 19, 'O': 20, 'Z': 21, 'Q': 22, 'R': 23, 'L': 24}\n"
     ]
    }
   ],
   "source": [
    "embed_enoder.create_embed_encoder()\n",
    "print(embed_enoder.embed_encoder)"
   ]
  },
  {
   "cell_type": "code",
   "execution_count": 8,
   "metadata": {
    "collapsed": true
   },
   "outputs": [],
   "source": [
    "from utilities.DataPreProcessor import DataPreProcessor\n",
    "\n",
    "count_dict = df_protein_seq_final['classification'].value_counts().to_dict()\n",
    "data_pre_processor = DataPreProcessor(count_dict,embed_enoder,None)"
   ]
  },
  {
   "cell_type": "code",
   "execution_count": 9,
   "metadata": {},
   "outputs": [
    {
     "name": "stdout",
     "output_type": "stream",
     "text": [
      "final Shape of the DataSet (291355, 2)\n"
     ]
    }
   ],
   "source": [
    "## delete least preferred sequences\n",
    "data_pre_processor.del_least_preferred()\n",
    "\n",
    "df_protein_seq_final_for_modeling = \\\n",
    "    df_protein_seq_final[df_protein_seq_final['classification']\n",
    "        .isin(data_pre_processor.count_dict_keys_as_list())]\n",
    "\n",
    "df_protein_seq_final_for_modeling = \\\n",
    "    df_protein_seq_final_for_modeling.reset_index(drop=True)\n",
    "print(\"final Shape of the DataSet {}\".format(df_protein_seq_final_for_modeling.shape))"
   ]
  },
  {
   "cell_type": "code",
   "execution_count": 10,
   "metadata": {
    "collapsed": true
   },
   "outputs": [],
   "source": [
    "## only considering sequences of length between 50 and 1200\n",
    "df_protein_seq_final_for_modeling = \\\n",
    "    df_protein_seq_final_for_modeling[df_protein_seq_final_for_modeling.apply(\n",
    "        lambda x: len(x['sequence']) <=1200 and len(x['sequence']) >=50 ,axis=1\n",
    "    )]"
   ]
  },
  {
   "cell_type": "code",
   "execution_count": 11,
   "metadata": {},
   "outputs": [
    {
     "name": "stdout",
     "output_type": "stream",
     "text": [
      "final Shape of the DataSet (271914, 2)\n"
     ]
    }
   ],
   "source": [
    "print(\"final Shape of the DataSet {}\".format(df_protein_seq_final_for_modeling.shape))"
   ]
  },
  {
   "cell_type": "code",
   "execution_count": 12,
   "metadata": {
    "collapsed": true
   },
   "outputs": [],
   "source": [
    "X_sequences = df_protein_seq_final_for_modeling['sequence']\n",
    "y_label = df_protein_seq_final_for_modeling['classification']"
   ]
  },
  {
   "cell_type": "code",
   "execution_count": 13,
   "metadata": {},
   "outputs": [
    {
     "name": "stdout",
     "output_type": "stream",
     "text": [
      "Getting Processed Seqs\n",
      "(271914, 1200)\n",
      "getting labels\n",
      "(271914, 61)\n"
     ]
    }
   ],
   "source": [
    "## test process sequences\n",
    "\n",
    "data_pre_processor.process_seqs_to_embeddings(X_sequences,y_label,1200)\n",
    "print(\"Getting Processed Seqs\")\n",
    "print(data_pre_processor.get_x().shape)\n",
    "print(\"getting labels\")\n",
    "print(data_pre_processor.get_y().shape)\n",
    "# print(\"getting protein categories\")\n",
    "# print(data_pre_processor.get_protein_categoeies())"
   ]
  },
  {
   "cell_type": "markdown",
   "metadata": {},
   "source": [
    "## LSTM Modeling"
   ]
  },
  {
   "cell_type": "code",
   "execution_count": 14,
   "metadata": {},
   "outputs": [
    {
     "name": "stderr",
     "output_type": "stream",
     "text": [
      "/home/aind2/anaconda3/lib/python3.6/site-packages/h5py/__init__.py:34: FutureWarning: Conversion of the second argument of issubdtype from `float` to `np.floating` is deprecated. In future, it will be treated as `np.float64 == np.dtype(float).type`.\n",
      "  from ._conv import register_converters as _register_converters\n",
      "Using TensorFlow backend.\n"
     ]
    }
   ],
   "source": [
    "from keras.layers import Conv1D\n",
    "from keras.layers import MaxPooling1D\n",
    "from keras.layers import Dense\n",
    "from keras.models import Sequential\n",
    "from keras.layers import Flatten\n",
    "from keras.layers import Embedding\n",
    "from keras.layers import Dropout\n",
    "from keras.layers import SpatialDropout1D\n",
    "from keras import regularizers\n",
    "from keras.layers.normalization import BatchNormalization\n",
    "from keras.callbacks import ModelCheckpoint"
   ]
  },
  {
   "cell_type": "code",
   "execution_count": 15,
   "metadata": {},
   "outputs": [
    {
     "name": "stdout",
     "output_type": "stream",
     "text": [
      "_________________________________________________________________\n",
      "Layer (type)                 Output Shape              Param #   \n",
      "=================================================================\n",
      "embedding_1 (Embedding)      (None, 1200, 300)         1500000   \n",
      "_________________________________________________________________\n",
      "batch_normalization_1 (Batch (None, 1200, 300)         1200      \n",
      "_________________________________________________________________\n",
      "conv1d_1 (Conv1D)            (None, 1198, 32)          28832     \n",
      "_________________________________________________________________\n",
      "max_pooling1d_1 (MaxPooling1 (None, 599, 32)           0         \n",
      "_________________________________________________________________\n",
      "batch_normalization_2 (Batch (None, 599, 32)           128       \n",
      "_________________________________________________________________\n",
      "conv1d_2 (Conv1D)            (None, 597, 64)           6208      \n",
      "_________________________________________________________________\n",
      "max_pooling1d_2 (MaxPooling1 (None, 298, 64)           0         \n",
      "_________________________________________________________________\n",
      "batch_normalization_3 (Batch (None, 298, 64)           256       \n",
      "_________________________________________________________________\n",
      "flatten_1 (Flatten)          (None, 19072)             0         \n",
      "_________________________________________________________________\n",
      "dense_1 (Dense)              (None, 61)                1163453   \n",
      "_________________________________________________________________\n",
      "dropout_1 (Dropout)          (None, 61)                0         \n",
      "=================================================================\n",
      "Total params: 2,700,077\n",
      "Trainable params: 2,699,285\n",
      "Non-trainable params: 792\n",
      "_________________________________________________________________\n",
      "None\n"
     ]
    }
   ],
   "source": [
    "embed_vol = 5000\n",
    "embed_dim = 300\n",
    "num_features = 25\n",
    "max_seq_length = 1200\n",
    "## AAs are supposed to be integer encoded for embedding layer \n",
    "\n",
    "model = Sequential()\n",
    "model.add(Embedding(embed_vol,embed_dim,input_length=data_pre_processor.get_x().shape[1]))\n",
    "model.add(BatchNormalization())\n",
    "model.add(Conv1D(filters=32, kernel_size=3, activation='relu'))\n",
    "model.add(MaxPooling1D(pool_size=2))\n",
    "model.add(BatchNormalization())\n",
    "\n",
    "model.add(Conv1D(filters=64, kernel_size=3, activation='relu'))\n",
    "model.add(MaxPooling1D(pool_size=2))\n",
    "model.add(BatchNormalization())\n",
    "\n",
    "model.add(Flatten())\n",
    "model.add(Dense(len(data_pre_processor.get_protein_categoeies()),activation='softmax'))\n",
    "model.add(Dropout(0.2))\n",
    "model.compile(loss='categorical_crossentropy', optimizer='adam', metrics=['accuracy'])\n",
    "print(model.summary())"
   ]
  },
  {
   "cell_type": "markdown",
   "metadata": {},
   "source": [
    "## Test-Train Split"
   ]
  },
  {
   "cell_type": "code",
   "execution_count": 16,
   "metadata": {
    "collapsed": true
   },
   "outputs": [],
   "source": [
    "from sklearn.model_selection import train_test_split\n",
    "X_train, X_test, y_train, y_test = train_test_split(data_pre_processor.get_x(), data_pre_processor.get_y(), test_size=0.20, random_state=42)"
   ]
  },
  {
   "cell_type": "code",
   "execution_count": 17,
   "metadata": {},
   "outputs": [
    {
     "name": "stdout",
     "output_type": "stream",
     "text": [
      "train data shape is (217531, 1200) and (217531, 61)\n",
      "test data shape is (54383, 1200) and (54383, 61)\n"
     ]
    }
   ],
   "source": [
    "print(\"train data shape is {} and {}\".format(X_train.shape,y_train.shape))\n",
    "print(\"test data shape is {} and {}\".format(X_test.shape,y_test.shape))"
   ]
  },
  {
   "cell_type": "code",
   "execution_count": 18,
   "metadata": {
    "collapsed": true
   },
   "outputs": [],
   "source": [
    "# from keras.callbacks import TensorBoard\n",
    "\n",
    "# tensor_board = TensorBoard(log_dir='logs/Graph', histogram_freq=0, write_graph=True, write_images=True)"
   ]
  },
  {
   "cell_type": "code",
   "execution_count": 19,
   "metadata": {
    "collapsed": true
   },
   "outputs": [],
   "source": [
    "checkpointer = ModelCheckpoint(filepath='saved_models/best_weights_cnn.hdf5', \n",
    "                               verbose=1, save_best_only=True)"
   ]
  },
  {
   "cell_type": "markdown",
   "metadata": {},
   "source": [
    "## Fit the Model (Training with validation split)"
   ]
  },
  {
   "cell_type": "code",
   "execution_count": 20,
   "metadata": {},
   "outputs": [
    {
     "name": "stdout",
     "output_type": "stream",
     "text": [
      "Train on 174024 samples, validate on 43507 samples\n",
      "Epoch 1/25\n",
      "Epoch 00001: val_loss improved from inf to 2.03513, saving model to saved_models/best_weights_cnn.hdf5\n",
      " - 217s - loss: 4.7617 - acc: 0.4674 - val_loss: 2.0351 - val_acc: 0.4999\n",
      "Epoch 2/25\n",
      "Epoch 00002: val_loss did not improve\n",
      " - 211s - loss: 4.1351 - acc: 0.5736 - val_loss: 2.1821 - val_acc: 0.5177\n",
      "Epoch 3/25\n",
      "Epoch 00003: val_loss did not improve\n",
      " - 211s - loss: 3.9862 - acc: 0.6130 - val_loss: 2.2620 - val_acc: 0.5179\n",
      "Epoch 4/25\n",
      "Epoch 00004: val_loss improved from 2.03513 to 1.14787, saving model to saved_models/best_weights_cnn.hdf5\n",
      " - 211s - loss: 3.8554 - acc: 0.6386 - val_loss: 1.1479 - val_acc: 0.7413\n",
      "Epoch 5/25\n",
      "Epoch 00005: val_loss did not improve\n",
      " - 211s - loss: 3.7921 - acc: 0.6548 - val_loss: 1.6138 - val_acc: 0.6529\n",
      "Epoch 6/25\n",
      "Epoch 00006: val_loss improved from 1.14787 to 1.14562, saving model to saved_models/best_weights_cnn.hdf5\n",
      " - 211s - loss: 3.7662 - acc: 0.6658 - val_loss: 1.1456 - val_acc: 0.7519\n",
      "Epoch 7/25\n",
      "Epoch 00007: val_loss improved from 1.14562 to 1.07136, saving model to saved_models/best_weights_cnn.hdf5\n",
      " - 211s - loss: 3.7234 - acc: 0.6758 - val_loss: 1.0714 - val_acc: 0.7744\n",
      "Epoch 8/25\n",
      "Epoch 00008: val_loss did not improve\n",
      " - 211s - loss: 3.6829 - acc: 0.6833 - val_loss: 1.4797 - val_acc: 0.7012\n",
      "Epoch 9/25\n",
      "Epoch 00009: val_loss did not improve\n",
      " - 211s - loss: 3.6793 - acc: 0.6878 - val_loss: 1.1987 - val_acc: 0.7498\n",
      "Epoch 10/25\n",
      "Epoch 00010: val_loss did not improve\n",
      " - 211s - loss: 3.6285 - acc: 0.6934 - val_loss: 1.2823 - val_acc: 0.7326\n",
      "Epoch 11/25\n",
      "Epoch 00011: val_loss did not improve\n",
      " - 211s - loss: 3.6183 - acc: 0.6980 - val_loss: 1.0728 - val_acc: 0.7879\n",
      "Epoch 12/25\n",
      "Epoch 00012: val_loss did not improve\n",
      " - 211s - loss: 3.6188 - acc: 0.7011 - val_loss: 1.2143 - val_acc: 0.7521\n",
      "Epoch 13/25\n",
      "Epoch 00013: val_loss improved from 1.07136 to 1.02973, saving model to saved_models/best_weights_cnn.hdf5\n",
      " - 211s - loss: 3.5993 - acc: 0.7037 - val_loss: 1.0297 - val_acc: 0.7978\n",
      "Epoch 14/25\n",
      "Epoch 00014: val_loss did not improve\n",
      " - 211s - loss: 3.5805 - acc: 0.7069 - val_loss: 1.0489 - val_acc: 0.7951\n",
      "Epoch 15/25\n",
      "Epoch 00015: val_loss did not improve\n",
      " - 211s - loss: 3.6010 - acc: 0.7077 - val_loss: 1.0523 - val_acc: 0.7975\n",
      "Epoch 16/25\n",
      "Epoch 00016: val_loss did not improve\n",
      " - 211s - loss: 3.5799 - acc: 0.7100 - val_loss: 1.0526 - val_acc: 0.7983\n",
      "Epoch 17/25\n",
      "Epoch 00017: val_loss improved from 1.02973 to 1.02791, saving model to saved_models/best_weights_cnn.hdf5\n",
      " - 211s - loss: 3.5651 - acc: 0.7130 - val_loss: 1.0279 - val_acc: 0.8104\n",
      "Epoch 18/25\n",
      "Epoch 00018: val_loss improved from 1.02791 to 1.01345, saving model to saved_models/best_weights_cnn.hdf5\n",
      " - 211s - loss: 3.5928 - acc: 0.7122 - val_loss: 1.0135 - val_acc: 0.8082\n",
      "Epoch 19/25\n",
      "Epoch 00019: val_loss did not improve\n",
      " - 211s - loss: 3.5526 - acc: 0.7165 - val_loss: 1.0769 - val_acc: 0.7988\n",
      "Epoch 20/25\n",
      "Epoch 00020: val_loss did not improve\n",
      " - 211s - loss: 3.5217 - acc: 0.7194 - val_loss: 1.0619 - val_acc: 0.8058\n",
      "Epoch 21/25\n",
      "Epoch 00021: val_loss improved from 1.01345 to 1.01336, saving model to saved_models/best_weights_cnn.hdf5\n",
      " - 211s - loss: 3.5604 - acc: 0.7182 - val_loss: 1.0134 - val_acc: 0.8164\n",
      "Epoch 22/25\n",
      "Epoch 00022: val_loss did not improve\n",
      " - 211s - loss: 3.5185 - acc: 0.7213 - val_loss: 1.1335 - val_acc: 0.7807\n",
      "Epoch 23/25\n",
      "Epoch 00023: val_loss did not improve\n",
      " - 211s - loss: 3.5297 - acc: 0.7217 - val_loss: 1.0219 - val_acc: 0.8147\n",
      "Epoch 24/25\n",
      "Epoch 00024: val_loss did not improve\n",
      " - 211s - loss: 3.4959 - acc: 0.7241 - val_loss: 1.0284 - val_acc: 0.8147\n",
      "Epoch 25/25\n",
      "Epoch 00025: val_loss did not improve\n",
      " - 211s - loss: 3.5204 - acc: 0.7235 - val_loss: 1.0339 - val_acc: 0.8192\n"
     ]
    },
    {
     "data": {
      "image/png": "[encoded data removed]",
      "text/plain": [
       "<matplotlib.figure.Figure at 0x7fa526d8fda0>"
      ]
     },
     "metadata": {},
     "output_type": "display_data"
    }
   ],
   "source": [
    "history = model.fit(X_train,y_train,epochs=25,verbose=2,batch_size=32,validation_split=0.2,callbacks=[checkpointer])\n",
    "\n",
    "plt.plot(history.history['loss'])\n",
    "plt.plot(history.history['val_loss'])\n",
    "plt.title('model train vs validation loss')\n",
    "plt.ylabel('loss')\n",
    "plt.xlabel('epoch')\n",
    "plt.legend(['train', 'validation'], loc='upper right')\n",
    "plt.show()"
   ]
  },
  {
   "cell_type": "code",
   "execution_count": 21,
   "metadata": {},
   "outputs": [
    {
     "name": "stdout",
     "output_type": "stream",
     "text": [
      "Score: 1.05\n",
      "Validation Accuracy: 0.82\n"
     ]
    }
   ],
   "source": [
    "score,acc = model.evaluate(X_test, y_test, verbose = 2, batch_size = 16)\n",
    "print(\"Score: %.2f\" % (score))\n",
    "print(\"Validation Accuracy: %.2f\" % (acc))"
   ]
  },
  {
   "cell_type": "code",
   "execution_count": 24,
   "metadata": {},
   "outputs": [
    {
     "data": {
      "image/png": "[encoded data removed]",
      "text/plain": [
       "<matplotlib.figure.Figure at 0x7fa526d8fba8>"
      ]
     },
     "metadata": {},
     "output_type": "display_data"
    }
   ],
   "source": [
    "# summarize history for accuracy\n",
    "plt.plot(history.history['acc'])\n",
    "plt.plot(history.history['val_acc'])\n",
    "plt.title('model accuracy')\n",
    "plt.ylabel('accuracy')\n",
    "plt.xlabel('epoch')\n",
    "plt.legend(['train', 'test'], loc='upper left')\n",
    "plt.show()"
   ]
  },
  {
   "cell_type": "code",
   "execution_count": null,
   "metadata": {
    "collapsed": true
   },
   "outputs": [],
   "source": []
  }
 ],
 "metadata": {
  "kernelspec": {
   "display_name": "Python 3",
   "language": "python",
   "name": "python3"
  },
  "language_info": {
   "codemirror_mode": {
    "name": "ipython",
    "version": 3
   },
   "file_extension": ".py",
   "mimetype": "text/x-python",
   "name": "python",
   "nbconvert_exporter": "python",
   "pygments_lexer": "ipython3",
   "version": "3.6.0"
  }
 },
 "nbformat": 4,
 "nbformat_minor": 2
}
